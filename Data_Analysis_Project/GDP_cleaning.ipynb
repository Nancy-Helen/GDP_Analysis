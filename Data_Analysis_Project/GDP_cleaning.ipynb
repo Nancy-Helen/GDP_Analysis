{
 "cells": [
  {
   "cell_type": "code",
   "execution_count": 2,
   "id": "41f9afa8-aad0-4552-89a1-9a8fd1af3ed6",
   "metadata": {},
   "outputs": [
    {
     "data": {
      "text/html": [
       "<div>\n",
       "<style scoped>\n",
       "    .dataframe tbody tr th:only-of-type {\n",
       "        vertical-align: middle;\n",
       "    }\n",
       "\n",
       "    .dataframe tbody tr th {\n",
       "        vertical-align: top;\n",
       "    }\n",
       "\n",
       "    .dataframe thead th {\n",
       "        text-align: right;\n",
       "    }\n",
       "</style>\n",
       "<table border=\"1\" class=\"dataframe\">\n",
       "  <thead>\n",
       "    <tr style=\"text-align: right;\">\n",
       "      <th></th>\n",
       "      <th>Country/Territory</th>\n",
       "      <th>IMF[1][12]</th>\n",
       "      <th>IMF[1][12].1</th>\n",
       "      <th>World Bank[13]</th>\n",
       "      <th>World Bank[13].1</th>\n",
       "      <th>United Nations[14]</th>\n",
       "      <th>United Nations[14].1</th>\n",
       "    </tr>\n",
       "  </thead>\n",
       "  <tbody>\n",
       "    <tr>\n",
       "      <th>0</th>\n",
       "      <td>Country/Territory</td>\n",
       "      <td>Forecast</td>\n",
       "      <td>Year</td>\n",
       "      <td>Estimate</td>\n",
       "      <td>Year</td>\n",
       "      <td>Estimate</td>\n",
       "      <td>Year</td>\n",
       "    </tr>\n",
       "    <tr>\n",
       "      <th>1</th>\n",
       "      <td>World</td>\n",
       "      <td>113795678</td>\n",
       "      <td>2025</td>\n",
       "      <td>111326370</td>\n",
       "      <td>2024</td>\n",
       "      <td>100834796</td>\n",
       "      <td>2022</td>\n",
       "    </tr>\n",
       "    <tr>\n",
       "      <th>2</th>\n",
       "      <td>United States</td>\n",
       "      <td>30507217</td>\n",
       "      <td>2025</td>\n",
       "      <td>29184890</td>\n",
       "      <td>2024</td>\n",
       "      <td>27720700</td>\n",
       "      <td>2023</td>\n",
       "    </tr>\n",
       "    <tr>\n",
       "      <th>3</th>\n",
       "      <td>China</td>\n",
       "      <td>19231705</td>\n",
       "      <td>[n 1]2025</td>\n",
       "      <td>18743803</td>\n",
       "      <td>[n 3]2024</td>\n",
       "      <td>17794782</td>\n",
       "      <td>[n 1]2023</td>\n",
       "    </tr>\n",
       "    <tr>\n",
       "      <th>4</th>\n",
       "      <td>Germany</td>\n",
       "      <td>4744804</td>\n",
       "      <td>2025</td>\n",
       "      <td>4659929</td>\n",
       "      <td>2024</td>\n",
       "      <td>4525704</td>\n",
       "      <td>2023</td>\n",
       "    </tr>\n",
       "  </tbody>\n",
       "</table>\n",
       "</div>"
      ],
      "text/plain": [
       "   Country/Territory IMF[1][12] IMF[1][12].1 World Bank[13] World Bank[13].1  \\\n",
       "0  Country/Territory   Forecast         Year       Estimate             Year   \n",
       "1              World  113795678         2025      111326370             2024   \n",
       "2      United States   30507217         2025       29184890             2024   \n",
       "3              China   19231705    [n 1]2025       18743803        [n 3]2024   \n",
       "4            Germany    4744804         2025        4659929             2024   \n",
       "\n",
       "  United Nations[14] United Nations[14].1  \n",
       "0           Estimate                 Year  \n",
       "1          100834796                 2022  \n",
       "2           27720700                 2023  \n",
       "3           17794782            [n 1]2023  \n",
       "4            4525704                 2023  "
      ]
     },
     "execution_count": 2,
     "metadata": {},
     "output_type": "execute_result"
    }
   ],
   "source": [
    "import pandas as pd\n",
    "\n",
    "data=pd.read_csv(\"GDP_wikipedia.csv\")\n",
    "data.head()"
   ]
  },
  {
   "cell_type": "code",
   "execution_count": 4,
   "id": "68d466f9-0ba8-452a-8728-465760445bf9",
   "metadata": {},
   "outputs": [
    {
     "name": "stdout",
     "output_type": "stream",
     "text": [
      "Index(['Country/Territory', 'IMF[1][12]', 'IMF[1][12].1', 'World Bank[13]',\n",
      "       'World Bank[13].1', 'United Nations[14]', 'United Nations[14].1'],\n",
      "      dtype='object')\n"
     ]
    }
   ],
   "source": [
    "print(data.columns)"
   ]
  },
  {
   "cell_type": "code",
   "execution_count": 36,
   "id": "6cb455cb-0b68-466c-823e-7c31e537a1fb",
   "metadata": {},
   "outputs": [
    {
     "name": "stdout",
     "output_type": "stream",
     "text": [
      "Index(['Country', 'IMF-Estimate', 'IMF-Year', 'World-Estimate', 'World-Year',\n",
      "       'United Nations-Estimate', 'United Nations-Year'],\n",
      "      dtype='object')\n"
     ]
    },
    {
     "data": {
      "text/plain": [
       "Country                    0\n",
       "IMF-Estimate               0\n",
       "IMF-Year                   0\n",
       "World-Estimate             0\n",
       "World-Year                 0\n",
       "United Nations-Estimate    0\n",
       "United Nations-Year        0\n",
       "dtype: int64"
      ]
     },
     "execution_count": 36,
     "metadata": {},
     "output_type": "execute_result"
    }
   ],
   "source": [
    "data.rename(columns={\n",
    "    data.columns[0]: 'Country',\n",
    "    data.columns[1]: 'IMF-Estimate',\n",
    "    data.columns[2]: 'IMF-Year',\n",
    "    data.columns[3]: 'World-Estimate',\n",
    "    data.columns[4]: 'World-Year',\n",
    "    data.columns[5]: 'United Nations-Estimate',\n",
    "    data.columns[6]: 'United Nations-Year'\n",
    "}, inplace=True)\n",
    "\n",
    "print(data.columns)\n",
    "\n",
    "data['IMF-Year'] = data['IMF-Year'].str.replace(r'\\[\\d+\\]', '', regex=True)\n",
    "data['World-Year'] = data['World-Year'].str.replace(r'\\[\\d+\\]', '', regex=True)\n",
    "data['United Nations-Year'] = data['United Nations-Year'].str.replace(r'\\[.*?\\]', '', regex=True)\n",
    "\n",
    "data = data.replace(['-', '', '–'], pd.NA)\n",
    "data.isnull().sum()\n"
   ]
  },
  {
   "cell_type": "code",
   "execution_count": 35,
   "id": "da24912f-321f-406e-9b46-e207f64b448b",
   "metadata": {},
   "outputs": [
    {
     "data": {
      "text/html": [
       "<div>\n",
       "<style scoped>\n",
       "    .dataframe tbody tr th:only-of-type {\n",
       "        vertical-align: middle;\n",
       "    }\n",
       "\n",
       "    .dataframe tbody tr th {\n",
       "        vertical-align: top;\n",
       "    }\n",
       "\n",
       "    .dataframe thead th {\n",
       "        text-align: right;\n",
       "    }\n",
       "</style>\n",
       "<table border=\"1\" class=\"dataframe\">\n",
       "  <thead>\n",
       "    <tr style=\"text-align: right;\">\n",
       "      <th></th>\n",
       "      <th>Country</th>\n",
       "      <th>IMF-Estimate</th>\n",
       "      <th>IMF-Year</th>\n",
       "      <th>World-Estimate</th>\n",
       "      <th>World-Year</th>\n",
       "      <th>United Nations-Estimate</th>\n",
       "      <th>United Nations-Year</th>\n",
       "    </tr>\n",
       "  </thead>\n",
       "  <tbody>\n",
       "    <tr>\n",
       "      <th>0</th>\n",
       "      <td>World</td>\n",
       "      <td>113795678.0</td>\n",
       "      <td>2025</td>\n",
       "      <td>111326370</td>\n",
       "      <td>2024</td>\n",
       "      <td>100834796</td>\n",
       "      <td>2022</td>\n",
       "    </tr>\n",
       "    <tr>\n",
       "      <th>1</th>\n",
       "      <td>United States</td>\n",
       "      <td>30507217.0</td>\n",
       "      <td>2025</td>\n",
       "      <td>29184890</td>\n",
       "      <td>2024</td>\n",
       "      <td>27720700</td>\n",
       "      <td>2023</td>\n",
       "    </tr>\n",
       "    <tr>\n",
       "      <th>2</th>\n",
       "      <td>China</td>\n",
       "      <td>19231705.0</td>\n",
       "      <td>2025</td>\n",
       "      <td>18743803</td>\n",
       "      <td>2024</td>\n",
       "      <td>17794782</td>\n",
       "      <td>2023</td>\n",
       "    </tr>\n",
       "    <tr>\n",
       "      <th>3</th>\n",
       "      <td>Germany</td>\n",
       "      <td>4744804.0</td>\n",
       "      <td>2025</td>\n",
       "      <td>4659929</td>\n",
       "      <td>2024</td>\n",
       "      <td>4525704</td>\n",
       "      <td>2023</td>\n",
       "    </tr>\n",
       "    <tr>\n",
       "      <th>4</th>\n",
       "      <td>India</td>\n",
       "      <td>4187017.0</td>\n",
       "      <td>2025</td>\n",
       "      <td>3912686</td>\n",
       "      <td>2024</td>\n",
       "      <td>3575778</td>\n",
       "      <td>2023</td>\n",
       "    </tr>\n",
       "    <tr>\n",
       "      <th>...</th>\n",
       "      <td>...</td>\n",
       "      <td>...</td>\n",
       "      <td>...</td>\n",
       "      <td>...</td>\n",
       "      <td>...</td>\n",
       "      <td>...</td>\n",
       "      <td>...</td>\n",
       "    </tr>\n",
       "    <tr>\n",
       "      <th>95</th>\n",
       "      <td>Bahrain</td>\n",
       "      <td>47829.0</td>\n",
       "      <td>2025</td>\n",
       "      <td>47737</td>\n",
       "      <td>2024</td>\n",
       "      <td>44662</td>\n",
       "      <td>2023</td>\n",
       "    </tr>\n",
       "    <tr>\n",
       "      <th>96</th>\n",
       "      <td>Libya</td>\n",
       "      <td>47484.0</td>\n",
       "      <td>2025</td>\n",
       "      <td>46636</td>\n",
       "      <td>2024</td>\n",
       "      <td>44030</td>\n",
       "      <td>2023</td>\n",
       "    </tr>\n",
       "    <tr>\n",
       "      <th>97</th>\n",
       "      <td>Nepal</td>\n",
       "      <td>46080.0</td>\n",
       "      <td>2025</td>\n",
       "      <td>42914</td>\n",
       "      <td>2024</td>\n",
       "      <td>40484</td>\n",
       "      <td>2023</td>\n",
       "    </tr>\n",
       "    <tr>\n",
       "      <th>98</th>\n",
       "      <td>Latvia</td>\n",
       "      <td>45535.0</td>\n",
       "      <td>2025</td>\n",
       "      <td>43521</td>\n",
       "      <td>2024</td>\n",
       "      <td>42248</td>\n",
       "      <td>2023</td>\n",
       "    </tr>\n",
       "    <tr>\n",
       "      <th>99</th>\n",
       "      <td>Paraguay</td>\n",
       "      <td>45465.0</td>\n",
       "      <td>2025</td>\n",
       "      <td>44458</td>\n",
       "      <td>2024</td>\n",
       "      <td>42955</td>\n",
       "      <td>2023</td>\n",
       "    </tr>\n",
       "  </tbody>\n",
       "</table>\n",
       "<p>100 rows × 7 columns</p>\n",
       "</div>"
      ],
      "text/plain": [
       "          Country  IMF-Estimate IMF-Year World-Estimate World-Year  \\\n",
       "0           World   113795678.0     2025      111326370       2024   \n",
       "1   United States    30507217.0     2025       29184890       2024   \n",
       "2           China    19231705.0     2025       18743803       2024   \n",
       "3         Germany     4744804.0     2025        4659929       2024   \n",
       "4           India     4187017.0     2025        3912686       2024   \n",
       "..            ...           ...      ...            ...        ...   \n",
       "95        Bahrain       47829.0     2025          47737       2024   \n",
       "96          Libya       47484.0     2025          46636       2024   \n",
       "97          Nepal       46080.0     2025          42914       2024   \n",
       "98         Latvia       45535.0     2025          43521       2024   \n",
       "99       Paraguay       45465.0     2025          44458       2024   \n",
       "\n",
       "   United Nations-Estimate United Nations-Year  \n",
       "0                100834796                2022  \n",
       "1                 27720700                2023  \n",
       "2                 17794782                2023  \n",
       "3                  4525704                2023  \n",
       "4                  3575778                2023  \n",
       "..                     ...                 ...  \n",
       "95                   44662                2023  \n",
       "96                   44030                2023  \n",
       "97                   40484                2023  \n",
       "98                   42248                2023  \n",
       "99                   42955                2023  \n",
       "\n",
       "[100 rows x 7 columns]"
      ]
     },
     "execution_count": 35,
     "metadata": {},
     "output_type": "execute_result"
    }
   ],
   "source": [
    "data.head(100)"
   ]
  },
  {
   "cell_type": "code",
   "execution_count": 37,
   "id": "70011005-e356-4fb7-adf1-7b359338a53d",
   "metadata": {},
   "outputs": [
    {
     "name": "stdout",
     "output_type": "stream",
     "text": [
      "IMF-Estimate               float64\n",
      "World-Estimate             float64\n",
      "United Nations-Estimate    float64\n",
      "dtype: object\n"
     ]
    }
   ],
   "source": [
    "pop_cols = ['IMF-Estimate', 'World-Estimate', 'United Nations-Estimate']\n",
    "for col in pop_cols:\n",
    "    data[col] = data[col].astype(str).str.replace(',', '').str.strip()\n",
    "    data[col] = pd.to_numeric(data[col], errors='coerce')\n",
    "print(data[pop_cols].dtypes)"
   ]
  },
  {
   "cell_type": "code",
   "execution_count": 38,
   "id": "9b570518-220a-407f-b1b4-0733073b0069",
   "metadata": {},
   "outputs": [
    {
     "name": "stdout",
     "output_type": "stream",
     "text": [
      "IMF-Estimate               1.194913e+06\n",
      "World-Estimate             1.185519e+06\n",
      "United Nations-Estimate    1.086049e+06\n",
      "dtype: float64\n"
     ]
    }
   ],
   "source": [
    "print(data[pop_cols].mean())"
   ]
  },
  {
   "cell_type": "code",
   "execution_count": 39,
   "id": "8eecae7d-b43c-4553-ac49-6d6ff841eca4",
   "metadata": {},
   "outputs": [
    {
     "name": "stdout",
     "output_type": "stream",
     "text": [
      "IMF-Estimate               48814.0\n",
      "World-Estimate             48702.5\n",
      "United Nations-Estimate    44030.0\n",
      "dtype: float64\n"
     ]
    }
   ],
   "source": [
    "print(data[pop_cols].median())"
   ]
  },
  {
   "cell_type": "code",
   "execution_count": 42,
   "id": "ac43fdcb-d697-424c-91c7-ed7b9c9c9c58",
   "metadata": {},
   "outputs": [
    {
     "name": "stdout",
     "output_type": "stream",
     "text": [
      "\n",
      "Top 10 by IMF Estimate\n",
      "          Country  IMF-Estimate\n",
      "0           World   113795678.0\n",
      "1   United States    30507217.0\n",
      "2           China    19231705.0\n",
      "3         Germany     4744804.0\n",
      "4           India     4187017.0\n",
      "5           Japan     4186431.0\n",
      "6  United Kingdom     3839180.0\n",
      "7          France     3211292.0\n",
      "8           Italy     2422855.0\n",
      "9          Canada     2225341.0\n",
      "\n",
      "Top 10 by World Estimate\n",
      "          Country  World-Estimate\n",
      "0           World     111326370.0\n",
      "1   United States      29184890.0\n",
      "2           China      18743803.0\n",
      "3         Germany       4659929.0\n",
      "5           Japan       4026211.0\n",
      "4           India       3912686.0\n",
      "6  United Kingdom       3643834.0\n",
      "7          France       3162079.0\n",
      "8           Italy       2372775.0\n",
      "9          Canada       2241253.0\n",
      "\n",
      "Top 10 by UN Estimate\n",
      "           Country  United Nations-Estimate\n",
      "0            World              100834796.0\n",
      "1    United States               27720700.0\n",
      "2            China               17794782.0\n",
      "3          Germany                4525704.0\n",
      "5            Japan                4204495.0\n",
      "4            India                3575778.0\n",
      "6   United Kingdom                3380855.0\n",
      "7           France                3051832.0\n",
      "8            Italy                2300941.0\n",
      "10          Brazil                2191132.0\n"
     ]
    }
   ],
   "source": [
    "print(\"\\nTop 10 by IMF Estimate\")\n",
    "print(data[['Country', 'IMF-Estimate']].sort_values(by='IMF-Estimate', ascending=False).head(10))\n",
    "\n",
    "print(\"\\nTop 10 by World Estimate\")\n",
    "print(data[['Country', 'World-Estimate']].sort_values(by='World-Estimate', ascending=False).head(10))\n",
    "\n",
    "print(\"\\nTop 10 by UN Estimate\")\n",
    "print(data[['Country', 'United Nations-Estimate']].sort_values(by='United Nations-Estimate', ascending=False).head(10))"
   ]
  },
  {
   "cell_type": "code",
   "execution_count": 43,
   "id": "80a082af-cca0-442f-94cb-235b20b75b70",
   "metadata": {},
   "outputs": [
    {
     "name": "stdout",
     "output_type": "stream",
     "text": [
      "\n",
      "Bottom 10 by IMF Estimate\n",
      "                   Country  IMF-Estimate\n",
      "189                 Tuvalu          65.0\n",
      "188                  Nauru         169.0\n",
      "187       Marshall Islands         297.0\n",
      "186               Kiribati         312.0\n",
      "185                  Palau         333.0\n",
      "184             Micronesia         500.0\n",
      "183                  Tonga         568.0\n",
      "182               Dominica         742.0\n",
      "181  São Tomé and Príncipe         864.0\n",
      "180  Saint Kitts and Nevis        1129.0\n",
      "\n",
      "Bottom 10 by World Estimate\n",
      "                   Country  World-Estimate\n",
      "189                 Tuvalu            62.0\n",
      "188                  Nauru           160.0\n",
      "187       Marshall Islands           280.0\n",
      "185                  Palau           282.0\n",
      "186               Kiribati           308.0\n",
      "184             Micronesia           471.0\n",
      "183                  Tonga           509.0\n",
      "182               Dominica           689.0\n",
      "181  São Tomé and Príncipe           764.0\n",
      "180  Saint Kitts and Nevis          1067.0\n",
      "\n",
      "Bottom 10 by UN Estimate\n",
      "                   Country  United Nations-Estimate\n",
      "189                 Tuvalu                     68.0\n",
      "188                  Nauru                    176.0\n",
      "187       Marshall Islands                    270.0\n",
      "185                  Palau                    282.0\n",
      "186               Kiribati                    289.0\n",
      "184             Micronesia                    460.0\n",
      "183                  Tonga                    508.0\n",
      "182               Dominica                    651.0\n",
      "181  São Tomé and Príncipe                    684.0\n",
      "179                  Samoa                   1032.0\n"
     ]
    }
   ],
   "source": [
    "print(\"\\nBottom 10 by IMF Estimate\")\n",
    "print(data[['Country', 'IMF-Estimate']].sort_values(by='IMF-Estimate', ascending=True).head(10))\n",
    "\n",
    "print(\"\\nBottom 10 by World Estimate\")\n",
    "print(data[['Country', 'World-Estimate']].sort_values(by='World-Estimate', ascending=True).head(10))\n",
    "\n",
    "print(\"\\nBottom 10 by UN Estimate\")\n",
    "print(data[['Country', 'United Nations-Estimate']].sort_values(by='United Nations-Estimate', ascending=True).head(10))"
   ]
  },
  {
   "cell_type": "code",
   "execution_count": 44,
   "id": "5d8cea8e-e8a9-4c98-9d68-ce915f211fa0",
   "metadata": {},
   "outputs": [],
   "source": [
    "data.to_csv(\"cleaned_GDP.csv\",index=False)"
   ]
  },
  {
   "cell_type": "code",
   "execution_count": 47,
   "id": "35ce0b9f-55b0-44cf-8e12-0beecd8a53e0",
   "metadata": {},
   "outputs": [],
   "source": [
    "df_viz = data[['Country', 'IMF-Estimate']].dropna()\n",
    "\n",
    "df_viz['Rank'] = df_viz['IMF-Estimate'].rank(ascending=False, method='dense')\n",
    "\n",
    "df_viz['Top10'] = df_viz['Rank'] <= 10\n",
    "\n",
    "df_viz.to_csv(\"gdp_tableau_ready.csv\", index=False)\n"
   ]
  },
  {
   "cell_type": "code",
   "execution_count": null,
   "id": "e3c92397-16bb-4632-8f21-410107b72761",
   "metadata": {},
   "outputs": [],
   "source": []
  }
 ],
 "metadata": {
  "kernelspec": {
   "display_name": "Python 3 (ipykernel)",
   "language": "python",
   "name": "python3"
  },
  "language_info": {
   "codemirror_mode": {
    "name": "ipython",
    "version": 3
   },
   "file_extension": ".py",
   "mimetype": "text/x-python",
   "name": "python",
   "nbconvert_exporter": "python",
   "pygments_lexer": "ipython3",
   "version": "3.11.7"
  }
 },
 "nbformat": 4,
 "nbformat_minor": 5
}
